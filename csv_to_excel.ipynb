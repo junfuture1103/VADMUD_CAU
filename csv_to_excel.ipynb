{
 "cells": [
  {
   "cell_type": "code",
   "execution_count": 2,
   "id": "direct-glass",
   "metadata": {},
   "outputs": [],
   "source": [
    "import pandas as pd     # pip install pands필요\n",
    "import numpy as np\n",
    "\n",
    "# 해당이름의 csv파일을 읽어옴\n",
    "r_csv = pd.read_csv(\"input/input.csv\")\n",
    "#r_csv = pd.read_csv(\"specimen/specimen_all.csv\")\n",
    "\n",
    "# 저장할 xlsx파일의 이름을 정함\n",
    "#save_xlsx = pd.ExcelWriter(\"input_data.xlsx\")\n",
    "save_xlsx = pd.ExcelWriter(\"input.xlsx\")\n",
    "\n",
    "r_csv.to_excel(save_xlsx, index = False) # xlsx 파일로 변환\n",
    "\n",
    "save_xlsx.save() #xlsx 파일로 저장"
   ]
  }
 ],
 "metadata": {
  "kernelspec": {
   "display_name": "Python 3",
   "language": "python",
   "name": "python3"
  },
  "language_info": {
   "codemirror_mode": {
    "name": "ipython",
    "version": 3
   },
   "file_extension": ".py",
   "mimetype": "text/x-python",
   "name": "python",
   "nbconvert_exporter": "python",
   "pygments_lexer": "ipython3",
   "version": "3.8.8"
  }
 },
 "nbformat": 4,
 "nbformat_minor": 5
}
