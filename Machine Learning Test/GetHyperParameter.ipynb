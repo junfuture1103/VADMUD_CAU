{
 "cells": [
  {
   "cell_type": "code",
   "execution_count": 10,
   "metadata": {},
   "outputs": [
    {
     "name": "stdout",
     "output_type": "stream",
     "text": [
      "####  LGBMRegressor  ####\n",
      " 5 교차 검증의 평균 RMSE : 0.975\n",
      "\n",
      "####After Test####\n",
      "MSE : 0.940, RMSE : 0.970\n",
      "Variance score : 0.966\n"
     ]
    }
   ],
   "source": [
    "import pandas as pd\n",
    "from sklearn.metrics import mean_squared_error, r2_score\n",
    "import numpy as np\n",
    "\n",
    "input = pd.read_excel(\"input_score_last.xlsx\")   \n",
    "\n",
    "y_feature = input['Score']\n",
    "X_feature = input.drop('Score',axis=1)\n",
    "\n",
    "from sklearn.model_selection import train_test_split\n",
    "X_train, X_test, y_train, y_test = train_test_split(X_feature, y_feature, test_size=0.2, \n",
    "random_state =50)\n",
    "\n",
    "\n",
    "\n",
    "#for import machine learning Algorithm\n",
    "# from sklearn.linear_model import LinearRegression \n",
    "# from sklearn.tree import DecisionTreeRegressor\n",
    "# from sklearn.ensemble import RandomForestRegressor\n",
    "# from sklearn.ensemble import GradientBoostingRegressor\n",
    "# from xgboost import XGBRegressor\n",
    "from lightgbm import LGBMRegressor\n",
    "from sklearn.model_selection import cross_val_score\n",
    "\n",
    "def get_model_cv_prediction(model, X_data, y_target):\n",
    "    neg_mse_scores = cross_val_score(model, X_data, y_target, scoring = \"neg_mean_squared_error\",cv=5)\n",
    "    rmse_scores = np.sqrt(-1*neg_mse_scores)\n",
    "    avg_rmse = np.mean(rmse_scores)\n",
    "    \n",
    "    print('#### ',model.__class__.__name__, ' ####')\n",
    "    print(' 5 교차 검증의 평균 RMSE : {0:.3f}'.format(avg_rmse))\n",
    "\n",
    "# lr_reg = LinearRegression(normalize=True) #True를 False 넣어서도 봐주세요\n",
    "# dt_reg = DecisionTreeRegressor(random_state=0, min_samples_split=6,min_samples_leaf=5, max_depth=5) \n",
    "# rf_reg = RandomForestRegressor(random_state=0, n_estimators = 200,max_depth=4, min_samples_leaf=7)\n",
    "# gb_reg = GradientBoostingRegressor(random_state=0, n_estimators = 20)\n",
    "# xgb_reg = XGBRegressor(random_state=0, objective='reg:squarederror', n_estimators=500,learning_rate=0.01)\n",
    "lgb_reg = LGBMRegressor(random_state=0, n_estimators=20)\n",
    "\n",
    "# models = [lr_reg, dt_reg, rf_reg, gb_reg, xgb_reg, lgb_reg]\n",
    "models = [lgb_reg]\n",
    "for model in models:\n",
    "    get_model_cv_prediction(model, X_feature, y_feature)\n",
    "\n",
    "#fit == I will training use X_train & Y_train and lgb_reg\n",
    "lgb_reg.fit(X_train, y_train)\n",
    "#y_preds == predict result using X_test\n",
    "y_preds = lgb_reg.predict(X_test)\n",
    "\n",
    "mse = mean_squared_error(y_test,y_preds)\n",
    "rmse = np.sqrt(mse)\n",
    "\n",
    "print('\\n####After Test####')\n",
    "print('MSE : {0:.3f}, RMSE : {1:.3f}'.format(mse,rmse))\n",
    "print('Variance score(R2score) : {0:.3f}'.format(r2_score(y_test, y_preds)))"
   ]
  },
  {
   "cell_type": "code",
   "execution_count": null,
   "metadata": {},
   "outputs": [],
   "source": []
  },
  {
   "cell_type": "code",
   "execution_count": null,
   "metadata": {},
   "outputs": [],
   "source": []
  }
 ],
 "metadata": {
  "kernelspec": {
   "display_name": "Python 3",
   "language": "python",
   "name": "python3"
  },
  "language_info": {
   "codemirror_mode": {
    "name": "ipython",
    "version": 3
   },
   "file_extension": ".py",
   "mimetype": "text/x-python",
   "name": "python",
   "nbconvert_exporter": "python",
   "pygments_lexer": "ipython3",
   "version": "3.8.5"
  }
 },
 "nbformat": 4,
 "nbformat_minor": 4
}
